{
 "nbformat": 4,
 "nbformat_minor": 0,
 "metadata": {
  "colab": {
   "provenance": []
  },
  "kernelspec": {
   "name": "python3",
   "display_name": "Python 3 (ipykernel)",
   "language": "python"
  },
  "language_info": {
   "name": "python"
  }
 },
 "cells": [
  {
   "cell_type": "markdown",
   "source": [
    "# I. OOP"
   ],
   "metadata": {
    "id": "5qV_sehzFCTp"
   }
  },
  {
   "cell_type": "markdown",
   "source": [
    "1. (6б). Створіть клас Building, додайте три атрибути, один з яких має значення за замовчуванням та два методи на свій розсуд."
   ],
   "metadata": {
    "id": "tx_U_hOALyfg"
   }
  },
  {
   "cell_type": "code",
   "source": [
    "class Building:\n",
    "    def __init__(self, address, floors, developer = \"IntergalBud\"):\n",
    "        self.address = address\n",
    "        self.floors = floors\n",
    "        self.developer = developer\n",
    "\n",
    "    def get_info(self):\n",
    "        return f\"Building at {self.address} with {self.floors} floors, developed by {self.developer}.\"\n",
    "\n",
    "    def change_developer(self, new_developer):\n",
    "        self.developer = new_developer\n"
   ],
   "metadata": {
    "id": "-Vf895KaL88N",
    "ExecuteTime": {
     "end_time": "2025-03-16T21:05:08.973224Z",
     "start_time": "2025-03-16T21:05:08.967197Z"
    }
   },
   "outputs": [],
   "execution_count": 3
  },
  {
   "cell_type": "markdown",
   "source": [
    "2. (2б). Створіть два обʼєкти цього класу, де один з обʼєктів створюється із дефолтним значенням атрибуту. На одному обʼєкті отримайте значення його атрибуту, а на іншому викличте один з його методів."
   ],
   "metadata": {
    "id": "X_UlOMB0L93w"
   }
  },
  {
   "cell_type": "code",
   "source": [
    "#redefining class Building because it gives a compilation error\n",
    "class Building:\n",
    "    def __init__(self, address, floors, developer = \"IntergalBud\"):\n",
    "        self.address = address\n",
    "        self.floors = floors\n",
    "        self.developer = developer\n",
    "\n",
    "    def get_info(self):\n",
    "        return f\"Building at {self.address} with {self.floors} floors, developed by {self.developer}.\"\n",
    "\n",
    "    def change_developer(self, new_developer):\n",
    "        self.developer = new_developer\n",
    "\n",
    "b1 = Building(\"123 Main St\", 5)\n",
    "b2 = Building(\"456 Wall St\", 25, \"Witkoff and New Valley\")\n",
    "print(b1.floors)\n",
    "b2.change_developer(\"Woodridge Capital Partners\")\n",
    "print(b2.developer)"
   ],
   "metadata": {
    "id": "7gBu0ESOMCpG",
    "ExecuteTime": {
     "end_time": "2025-03-16T20:56:40.711181Z",
     "start_time": "2025-03-16T20:56:40.703670Z"
    }
   },
   "outputs": [
    {
     "name": "stdout",
     "output_type": "stream",
     "text": [
      "5\n",
      "Woodridge Capital Partners\n"
     ]
    }
   ],
   "execution_count": 2
  },
  {
   "cell_type": "markdown",
   "source": [
    "3. (5б). Створіть клас, де атрибути мають різні рівні доступу. Спробуйте отримати їхні значення та опишіть результати."
   ],
   "metadata": {
    "id": "HoqSCZt1MHn5"
   }
  },
  {
   "cell_type": "code",
   "source": [
    "class Data:\n",
    "    def __init__(self, public_data, protected_data, private_data):\n",
    "        self.public_data = public_data  # Public attribute\n",
    "        self._protected_data = protected_data  # Protected attribute (conventionally private)\n",
    "        self.__private_data = private_data  # Private attribute (name mangling)\n",
    "\n",
    "    def get_private_data(self):\n",
    "        return self.__private_data  # Accessing private attribute within the class"
   ],
   "metadata": {
    "id": "r9b3vJxBMSPV",
    "ExecuteTime": {
     "end_time": "2025-03-16T21:05:11.881113Z",
     "start_time": "2025-03-16T21:05:11.876809Z"
    }
   },
   "outputs": [],
   "execution_count": 4
  },
  {
   "cell_type": "markdown",
   "source": [
    "4. (7б). Як ви розумієте термін self? Для чого використовується метод __init __?"
   ],
   "metadata": {
    "id": "5op2m2vgMSkZ"
   }
  },
  {
   "cell_type": "markdown",
   "source": [
    "self — посилання на екземпляр класу. Воно використовується для доступу до атрибутів та методів об'єкта всередині класу.\n",
    "\n",
    "__init__ — це спеціальний метод (конструктор), який викликається автоматично під час створення нового об'єкта. Він використовується для ініціалізації атрибутів екземпляра. Цей метод дозволяє передавати аргументи під час створення об'єкта та є None за замовчуванням."
   ],
   "metadata": {
    "id": "DyiPqNRvMasx"
   }
  },
  {
   "cell_type": "markdown",
   "source": [
    "5. (9б). Створіть клас 3D-фігура без атрибутів, з методом get_volume для отримання об'єму фігури, що повертає 0 та __add __, який приймає self та other в якості аргументів, а повертає суму об'ємів 3d-фігур self та other."
   ],
   "metadata": {
    "id": "-6X8EGfjMd2y"
   }
  },
  {
   "cell_type": "code",
   "source": [
    "class Shape3D:\n",
    "    def get_volume(self):\n",
    "        return 0\n",
    "\n",
    "    def __add__(self, other):\n",
    "        if isinstance(other, Shape3D):\n",
    "            return self.get_volume() + other.get_volume()\n",
    "        raise TypeError(\"Can only add another Shape3D instance\")"
   ],
   "metadata": {
    "id": "4rvO_wYUMaEr",
    "ExecuteTime": {
     "end_time": "2025-03-16T21:05:13.766952Z",
     "start_time": "2025-03-16T21:05:13.761945Z"
    }
   },
   "outputs": [],
   "execution_count": 5
  },
  {
   "cell_type": "markdown",
   "source": [
    "6. (11б). Створіть 2 дочірніх класи від 3d-фігура: Циліндр та Куб, які мають атрибути, необхідні для розрахунку об'єму. Визначте метод get_volume в кожному з них так, щоби вони розраховували об'єм у залежності від формули для кожного типу фігури. Створіть обʼєкт класу Циліндр та обʼєкт класу Куб. Виконайте операцію суми за допомогою оператора + між ними, аби знайти сумарний об'єм."
   ],
   "metadata": {
    "id": "SFcKnnv5Mo_z"
   }
  },
  {
   "cell_type": "code",
   "source": [
    "import math\n",
    "class Cylinder(Shape3D):\n",
    "    def __init__(self, radius, height):\n",
    "        self.radius = radius\n",
    "        self.height = height\n",
    "\n",
    "    def get_volume(self):\n",
    "        return math.pi * self.radius**2 * self.height\n",
    "\n",
    "class Cube(Shape3D):\n",
    "    def __init__(self, side):\n",
    "        self.side = side\n",
    "\n",
    "    def get_volume(self):\n",
    "        return self.side**3\n",
    "\n",
    "\n",
    "cylinder = Cylinder(3, 5)\n",
    "cube = Cube(4)\n",
    "print(cylinder + cube)"
   ],
   "metadata": {
    "id": "H3GVNr69Muf3",
    "ExecuteTime": {
     "end_time": "2025-03-16T21:07:18.416923Z",
     "start_time": "2025-03-16T21:07:18.410153Z"
    }
   },
   "outputs": [
    {
     "name": "stdout",
     "output_type": "stream",
     "text": [
      "205.3716694115407\n"
     ]
    }
   ],
   "execution_count": 6
  },
  {
   "cell_type": "markdown",
   "source": [
    "7. (3б). Продемонструйте різницю між isinstance та issubclass."
   ],
   "metadata": {
    "id": "HCvR206YMvLK"
   }
  },
  {
   "cell_type": "code",
   "source": [
    "if isinstance(cylinder, Cylinder):\n",
    "    print(\"cylinder is an instance of a class Cylinder\")\n",
    "if issubclass(Cube, Shape3D):\n",
    "    print(\"Cube is a Shape3D\")\n",
    "\n",
    "shape3D = Shape3D()\n",
    "if isinstance(shape3D, Cylinder):\n",
    "    print(\"shape3D is an instance of a class Cylinder\")\n",
    "else:\n",
    "    print(\"shape3D is not an instance of Cylinder\")\n",
    "if issubclass(Shape3D, Cube):\n",
    "    print(\"Shape3D is a Cube\")\n",
    "else:\n",
    "    print(\"Shape3D is not a Cube\")"
   ],
   "metadata": {
    "id": "L_V1bBvDM0GN",
    "ExecuteTime": {
     "end_time": "2025-03-16T21:14:42.179544Z",
     "start_time": "2025-03-16T21:14:42.173909Z"
    }
   },
   "outputs": [
    {
     "name": "stdout",
     "output_type": "stream",
     "text": [
      "cylinder is an instance of a class Cylinder\n",
      "Cube is a Shape3D\n",
      "shape3D is not an instance of Cylinder\n",
      "Shape3D is not a Cube\n"
     ]
    }
   ],
   "execution_count": 9
  },
  {
   "cell_type": "markdown",
   "source": [
    "8. (13б). Створіть клас EWallet з приватними атрибутами balance та id. Реалізуйте методи поповнення та зняття коштів, забезпечивши належну інкапсуляцію. Підказка: використовуйте декоратори property та setter."
   ],
   "metadata": {
    "id": "jjsaBZ-iM0Qq"
   }
  },
  {
   "cell_type": "code",
   "source": [
    "import uuid\n",
    "\n",
    "class EWallet:\n",
    "    def __init__(self, initial_balance=0):\n",
    "        self.__balance = initial_balance\n",
    "        self.__id = uuid.uuid4()\n",
    "\n",
    "    @property\n",
    "    def balance(self):\n",
    "        return self.__balance\n",
    "\n",
    "    @balance.setter\n",
    "    def balance(self, amount):\n",
    "        if amount >= 0:\n",
    "            self.__balance = amount\n",
    "        else:\n",
    "            raise ValueError(\"Balance cannot be negative.\")\n",
    "\n",
    "    def deposit(self, amount):\n",
    "        if amount > 0:\n",
    "            self.__balance += amount\n",
    "            return f\"Deposited {amount}. New balance: {self.__balance}\"\n",
    "        return \"Invalid deposit amount.\"\n",
    "\n",
    "    def withdraw(self, amount):\n",
    "        if 0 < amount <= self.__balance:\n",
    "            self.__balance -= amount\n",
    "            return f\"Withdrew {amount}. New balance: {self.__balance}\"\n",
    "        return \"Insufficient funds or invalid amount.\"\n",
    "\n",
    "    @property\n",
    "    def wallet_id(self):\n",
    "        return self.__id\n",
    "\n",
    "# Example\n",
    "wallet = EWallet(100)\n",
    "print(wallet.deposit(50))\n",
    "print(wallet.withdraw(30))\n",
    "print(wallet.balance)\n",
    "wallet.balance = 200\n",
    "print(wallet.balance)\n",
    "print(wallet.wallet_id)\n"
   ],
   "metadata": {
    "id": "xCvZ7lh8M7YA",
    "ExecuteTime": {
     "end_time": "2025-03-16T21:21:17.249639Z",
     "start_time": "2025-03-16T21:21:17.241773Z"
    }
   },
   "outputs": [
    {
     "name": "stdout",
     "output_type": "stream",
     "text": [
      "Deposited 50. New balance: 150\n",
      "Withdrew 30. New balance: 120\n",
      "120\n",
      "200\n",
      "9fcb2dd7-1384-4872-b5e2-41ecc451b18e\n"
     ]
    }
   ],
   "execution_count": 10
  },
  {
   "cell_type": "markdown",
   "source": [
    "9. (11б). Створіть клас ShoppingCart, який містить список об'єктів типу Item. Реалізуйте методи для додавання айтемів, їх видалення та відображення списку айтемів."
   ],
   "metadata": {
    "id": "tIzL2SJTM8ft"
   }
  },
  {
   "cell_type": "code",
   "source": [
    "class Item:\n",
    "    def __init__(self, name, price):\n",
    "        self.name = name\n",
    "        self.price = price\n",
    "\n",
    "    def __str__(self):\n",
    "        return f\"{self.name}: ${self.price:.2f}\"\n",
    "\n",
    "class ShoppingCart:\n",
    "    def __init__(self):\n",
    "        self.items = []\n",
    "\n",
    "    def add_item(self, item):\n",
    "        if isinstance(item, Item):\n",
    "            self.items.append(item)\n",
    "            return f\"Added {item.name} to the cart.\"\n",
    "        return \"Invalid item.\"\n",
    "\n",
    "    def remove_item(self, item_name):\n",
    "        for item in self.items:\n",
    "            if item.name == item_name:\n",
    "                self.items.remove(item)\n",
    "                return f\"Removed {item.name} from the cart.\"\n",
    "        return \"Item not found in the cart.\"\n",
    "\n",
    "    def show_items(self):\n",
    "        if not self.items:\n",
    "            return \"Your shopping cart is empty.\"\n",
    "        return \"\\n\".join(str(item) for item in self.items)\n",
    "\n",
    "# Example\n",
    "cart = ShoppingCart()\n",
    "item1 = Item(\"Chocolapki\", 99.99)\n",
    "item2 = Item(\"Romashka\", 49.99)\n",
    "\n",
    "print(cart.add_item(item1))\n",
    "print(cart.add_item(item2))\n",
    "print(cart.show_items())\n",
    "print(cart.remove_item(\"Chocolapki\"))\n",
    "print(cart.show_items())\n"
   ],
   "metadata": {
    "id": "HWxfJKLtNAUZ",
    "ExecuteTime": {
     "end_time": "2025-03-16T21:42:57.026072Z",
     "start_time": "2025-03-16T21:42:57.016814Z"
    }
   },
   "outputs": [
    {
     "name": "stdout",
     "output_type": "stream",
     "text": [
      "Added Chocolapki to the cart.\n",
      "Added Romashka to the cart.\n",
      "Chocolapki: $99.99\n",
      "Romashka: $49.99\n",
      "Removed Chocolapki from the cart.\n",
      "Romashka: $49.99\n"
     ]
    }
   ],
   "execution_count": 20
  },
  {
   "cell_type": "markdown",
   "source": [
    "10. (13б). Створіть клас Vehicle з атрибутами brand (manufacturer) та production_age. Створіть ще один клас Engine з такими атрибутами, як type (ex. petrol) та size (volume, litres). Створіть клас Car, який успадковує обидва класи Vehicle та Engine. Продемонструйте використання множинної спадковості, створивши обʼєкт класу Car та отримавши mro для цього класу."
   ],
   "metadata": {
    "id": "lmV8pAwwNIqu"
   }
  },
  {
   "cell_type": "code",
   "source": [
    "class Vehicle:\n",
    "    def __init__(self, brand, production_age):\n",
    "        self.brand = brand\n",
    "        self.production_age = production_age\n",
    "\n",
    "    def __str__(self):\n",
    "        return f\"Vehicle Brand: {self.brand}, Production Age: {self.production_age} years\"\n",
    "\n",
    "\n",
    "class Engine:\n",
    "    def __init__(self, engine_type, size):\n",
    "        self.engine_type = engine_type\n",
    "        self.size = size\n",
    "\n",
    "    def __str__(self):\n",
    "        return f\"Engine Type: {self.engine_type}, Engine Size: {self.size} litres\"\n",
    "\n",
    "\n",
    "class Car(Vehicle, Engine):\n",
    "    def __init__(self, brand, production_age, engine_type, size):\n",
    "        Vehicle.__init__(self, brand, production_age)\n",
    "        Engine.__init__(self, engine_type, size)\n",
    "\n",
    "    def __str__(self):\n",
    "        return f\"{Vehicle.__str__(self)}, {Engine.__str__(self)}\"\n",
    "\n",
    "# Example\n",
    "my_car = Car(brand=\"Toyota\", production_age=5, engine_type=\"Petrol\", size=1.8)\n",
    "print(my_car)\n",
    "print(\"MRO for Car:\", Car.__mro__)\n"
   ],
   "metadata": {
    "id": "R49grKlWNPeN",
    "ExecuteTime": {
     "end_time": "2025-03-16T21:30:36.952757Z",
     "start_time": "2025-03-16T21:30:36.944424Z"
    }
   },
   "outputs": [
    {
     "name": "stdout",
     "output_type": "stream",
     "text": [
      "Vehicle Brand: Toyota, Production Age: 5 years, Engine Type: Petrol, Engine Size: 1.8 litres\n",
      "MRO for Car: (<class '__main__.Car'>, <class '__main__.Vehicle'>, <class '__main__.Engine'>, <class 'object'>)\n"
     ]
    }
   ],
   "execution_count": 12
  },
  {
   "cell_type": "markdown",
   "source": [
    "# II. Iterator"
   ],
   "metadata": {
    "id": "dIJyUiNBFG8G"
   }
  },
  {
   "cell_type": "markdown",
   "source": [
    "11. (4б). Визначте рядок(str) з 4ма різними за значенням символами. Створіть ітератор на основі цього рядка. Викличте 5 разів функцію next на ітераторі, 4ри перших з них огорніть у ф-цію print()."
   ],
   "metadata": {
    "id": "13vsm0NyKIzL"
   }
  },
  {
   "cell_type": "code",
   "source": [
    "my_string = \"abcd\"\n",
    "\n",
    "iterator = iter(my_string)\n",
    "\n",
    "print(next(iterator))  # 'a'\n",
    "print(next(iterator))  # 'b'\n",
    "print(next(iterator))  # 'c'\n",
    "print(next(iterator))  # 'd'\n",
    "\n",
    "try:\n",
    "    print(next(iterator))\n",
    "except StopIteration:\n",
    "    print(\"Iteration is exhausted.\")"
   ],
   "metadata": {
    "id": "81ntabAkKuz-",
    "ExecuteTime": {
     "end_time": "2025-03-16T21:33:16.537065Z",
     "start_time": "2025-03-16T21:33:16.530633Z"
    }
   },
   "outputs": [
    {
     "name": "stdout",
     "output_type": "stream",
     "text": [
      "a\n",
      "b\n",
      "c\n",
      "d\n",
      "Iteration is exhausted.\n"
     ]
    }
   ],
   "execution_count": 13
  },
  {
   "cell_type": "markdown",
   "source": [
    "А що якщо викликати цю ж функцію на рядку?"
   ],
   "metadata": {
    "id": "aekWHGXOLRsO"
   }
  },
  {
   "cell_type": "code",
   "source": [
    "try:\n",
    "    print(next(my_string))  # помилка, бо рядок не є ітератором\n",
    "except TypeError as e:\n",
    "    print(f\"Error: {e}\")"
   ],
   "metadata": {
    "id": "mxATGsErLV1i",
    "ExecuteTime": {
     "end_time": "2025-03-16T21:37:55.958292Z",
     "start_time": "2025-03-16T21:37:55.953371Z"
    }
   },
   "outputs": [
    {
     "name": "stdout",
     "output_type": "stream",
     "text": [
      "Error: 'str' object is not an iterator\n"
     ]
    }
   ],
   "execution_count": 17
  },
  {
   "cell_type": "markdown",
   "source": [
    " 12. (5б). Опишіть своїми словами в одному реченні, як ви розумієте різницю між ітерабельними обʼєктами та ітераторами (можна на прикладі)."
   ],
   "metadata": {
    "id": "XwtMEopwJ4pH"
   }
  },
  {
   "cell_type": "markdown",
   "source": "Ітерабельні об'єкти — об'єкти, по яких можна пройтися за допомогою циклів, ітератори — об'єкти, які мають методи для доступу до елементів через функцію next(), і вони можуть бути використані лише один раз для ітерації,",
   "metadata": {
    "id": "-sHrODc3KFn8"
   }
  },
  {
   "cell_type": "markdown",
   "source": [
    "13. (11б). Створіть клас, що має визначений Iterator Protocol та при кожному виклику next повертає назву дня тижня, поки вони не вичерпаються. Зверніть увагу, що порядок має значення."
   ],
   "metadata": {
    "id": "E9qJWmNbK8Gl"
   }
  },
  {
   "cell_type": "code",
   "source": [
    "class WeekDaysIterator:\n",
    "    def __init__(self):\n",
    "        self.days_of_week = [\"Monday\", \"Tuesday\", \"Wednesday\", \"Thursday\", \"Friday\", \"Saturday\", \"Sunday\"]\n",
    "        self.index = 0\n",
    "\n",
    "    def __iter__(self):\n",
    "        return self\n",
    "\n",
    "    def __next__(self):\n",
    "        if self.index < len(self.days_of_week):\n",
    "            day = self.days_of_week[self.index]\n",
    "            self.index += 1\n",
    "            return day\n",
    "        else:\n",
    "            raise StopIteration\n",
    "\n",
    "\n",
    "week_iterator = WeekDaysIterator()\n",
    "\n",
    "for day in week_iterator:\n",
    "    print(day)\n"
   ],
   "metadata": {
    "id": "cqx-g_RsLo6I",
    "ExecuteTime": {
     "end_time": "2025-03-16T21:41:07.088021Z",
     "start_time": "2025-03-16T21:41:07.081948Z"
    }
   },
   "outputs": [
    {
     "name": "stdout",
     "output_type": "stream",
     "text": [
      "Monday\n",
      "Tuesday\n",
      "Wednesday\n",
      "Thursday\n",
      "Friday\n",
      "Saturday\n",
      "Sunday\n"
     ]
    }
   ],
   "execution_count": 18
  },
  {
   "cell_type": "markdown",
   "source": [
    "# Вітаю! Ви велика(ий) молодець, що впоралась(вся). Похваліть себе та побалуйте чимось приємним. Я Вами пишаюся."
   ],
   "metadata": {
    "id": "Z3E3S_s1Fv7-"
   }
  }
 ]
}
